{
 "cells": [
  {
   "cell_type": "markdown",
   "metadata": {},
   "source": [
    "# [과제] 데이터랩에서 검색어 트렌드 수집 "
   ]
  },
  {
   "cell_type": "code",
   "execution_count": null,
   "metadata": {},
   "outputs": [],
   "source": [
    "# 작성자 : 이준목\n",
    "# 2024-01-01 ~2024-12-31\n",
    "# 연령별, 성별, 월별 검색어 트랜드를 수집하여, csv에 저장하는 코드를 작성하여 제출하세요."
   ]
  },
  {
   "cell_type": "code",
   "execution_count": 1,
   "metadata": {},
   "outputs": [],
   "source": [
    "from datetime import datetime\n",
    "import time\n",
    "import urllib.request as req\n",
    "import json\n",
    "import re\n",
    "import urllib.parse as par\n",
    "\n",
    "client_id = \"BT6k3bbhO_5vyKyG4Mbv\"\n",
    "client_secret = \"_5FwJJECEe\""
   ]
  },
  {
   "cell_type": "code",
   "execution_count": null,
   "metadata": {},
   "outputs": [],
   "source": [
    "def getNaverSearch(startDate, endDate, timeUnit, keywoerdGroups, device, gender, ages)\n",
    "    base = f\"https://openapi.naver.com/v1/datalab/search\"\n",
    "    params = f\"\""
   ]
  },
  {
   "cell_type": "code",
   "execution_count": null,
   "metadata": {},
   "outputs": [],
   "source": [
    "def getDataLabSearch(startDate, endDate, timeUnit, groupName, keywords, device, gender, ages):\n",
    "    base = f\"https://openapi.naver.com/v1/datalab/search\"\n",
    "    body = \"{\\\"startDate\\\":\\\"\"+ startDate + \"\\\",\\\"endDate\\\":\\\"\"+ endDate +\"\\\",\\\"timeUnit\\\":\\\"\"+ timeUnit+ \"\\\",\\\"keywordGroups\\\":[{\\\"groupName\\\":\\\"한글\\\",\\\"keywords\\\":[\\\"한글\\\",\\\"korean\\\"]},{\\\"groupName\\\":\\\"영어\\\",\\\"keywords\\\":[\\\"영어\\\",\\\"english\\\"]}],\\\"device\\\":\\\"pc\\\",\\\"ages\\\":[\\\"1\\\",\\\"2\\\"],\\\"gender\\\":\\\"f\\\"}\"\n"
   ]
  },
  {
   "cell_type": "code",
   "execution_count": null,
   "metadata": {},
   "outputs": [],
   "source": [
    "def main ():\n",
    "    # src_text = input(\"검색어를 입력하세요.\")\n",
    "    groupName = '손흥민'\n",
    "    keywords = ['축구','토트넘', '해외축구']\n",
    "     # datetime.strptime(\"20240101\", \"%Y%m%d\").date()\n",
    "    startDate = \"2024-01-01\"\n",
    "    endDate = \"2024-12-31\"\n",
    "    timeUnit = ['date', 'week', 'month']\n",
    "    keywordGroups = [{\"groupName\": groupName},{\"keywords\":keywords}]\n",
    "    device = [\"\", \"pc\", \"mo\"]\n",
    "    gender = ['m', 'f']\n",
    "    ages = ['1', '2', '3', '4', '5', '6', '7', '8', '9', '10', '11']\n"
   ]
  },
  {
   "cell_type": "markdown",
   "metadata": {},
   "source": [
    "아래는 참고용 퍼왔음."
   ]
  },
  {
   "cell_type": "code",
   "execution_count": null,
   "metadata": {},
   "outputs": [],
   "source": [
    "import os\n",
    "import sys\n",
    "import urllib.request\n",
    "client_id = \"YOUR_CLIENT_ID\"\n",
    "client_secret = \"YOUR_CLIENT_SECRET\"\n",
    "url = \"https://openapi.naver.com/v1/datalab/search\";\n",
    "body = ;\n",
    "\"{\\\"startDate\\\":\\\"2017-01-01\\\",\\\"endDate\\\":\\\"2017-04-30\\\",\\\"timeUnit\\\":\\\"month\\\",\\\"keywordGroups\\\":[{\\\"groupName\\\":\\\"한글\\\",\\\"keywords\\\":[\\\"한글\\\",\\\"korean\\\"]},{\\\"groupName\\\":\\\"영어\\\",\\\"keywords\\\":[\\\"영어\\\",\\\"english\\\"]}],\\\"device\\\":\\\"pc\\\",\\\"ages\\\":[\\\"1\\\",\\\"2\\\"],\\\"gender\\\":\\\"f\\\"}\"\n",
    "request = urllib.request.Request(url)\n",
    "request.add_header(\"X-Naver-Client-Id\",client_id)\n",
    "request.add_header(\"X-Naver-Client-Secret\",client_secret)\n",
    "request.add_header(\"Content-Type\",\"application/json\")\n",
    "response = urllib.request.urlopen(request, data=body.encode(\"utf-8\"))\n",
    "rescode = response.getcode()\n",
    "if(rescode==200):\n",
    "    response_body = response.read()\n",
    "    print(response_body.decode('utf-8'))\n",
    "else:\n",
    "    print(\"Error Code:\" + rescode)"
   ]
  }
 ],
 "metadata": {
  "kernelspec": {
   "display_name": "base",
   "language": "python",
   "name": "python3"
  },
  "language_info": {
   "codemirror_mode": {
    "name": "ipython",
    "version": 3
   },
   "file_extension": ".py",
   "mimetype": "text/x-python",
   "name": "python",
   "nbconvert_exporter": "python",
   "pygments_lexer": "ipython3",
   "version": "3.12.7"
  }
 },
 "nbformat": 4,
 "nbformat_minor": 2
}
