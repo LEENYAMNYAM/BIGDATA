{
 "cells": [
  {
   "cell_type": "markdown",
   "metadata": {},
   "source": [
    "# 동적크롤링 과제3(이준목)"
   ]
  },
  {
   "cell_type": "markdown",
   "metadata": {},
   "source": [
    "- 스타벅스 매장 원하는 지역의 매장 정보는 동적 크롤링으로 가져오자 (전국 매장 DB, CSV저장)"
   ]
  },
  {
   "cell_type": "code",
   "execution_count": 2,
   "metadata": {},
   "outputs": [
    {
     "name": "stdout",
     "output_type": "stream",
     "text": [
      "Requirement already satisfied: selenium in c:\\users\\wintu\\anaconda3\\lib\\site-packages (4.29.0)\n",
      "Requirement already satisfied: urllib3<3,>=1.26 in c:\\users\\wintu\\anaconda3\\lib\\site-packages (from urllib3[socks]<3,>=1.26->selenium) (2.2.3)\n",
      "Requirement already satisfied: trio~=0.17 in c:\\users\\wintu\\anaconda3\\lib\\site-packages (from selenium) (0.29.0)\n",
      "Requirement already satisfied: trio-websocket~=0.9 in c:\\users\\wintu\\anaconda3\\lib\\site-packages (from selenium) (0.12.2)\n",
      "Requirement already satisfied: certifi>=2021.10.8 in c:\\users\\wintu\\anaconda3\\lib\\site-packages (from selenium) (2024.8.30)\n",
      "Requirement already satisfied: typing_extensions~=4.9 in c:\\users\\wintu\\anaconda3\\lib\\site-packages (from selenium) (4.11.0)\n",
      "Requirement already satisfied: websocket-client~=1.8 in c:\\users\\wintu\\anaconda3\\lib\\site-packages (from selenium) (1.8.0)\n",
      "Requirement already satisfied: attrs>=23.2.0 in c:\\users\\wintu\\anaconda3\\lib\\site-packages (from trio~=0.17->selenium) (25.3.0)\n",
      "Requirement already satisfied: sortedcontainers in c:\\users\\wintu\\anaconda3\\lib\\site-packages (from trio~=0.17->selenium) (2.4.0)\n",
      "Requirement already satisfied: idna in c:\\users\\wintu\\anaconda3\\lib\\site-packages (from trio~=0.17->selenium) (3.7)\n",
      "Requirement already satisfied: outcome in c:\\users\\wintu\\anaconda3\\lib\\site-packages (from trio~=0.17->selenium) (1.3.0.post0)\n",
      "Requirement already satisfied: sniffio>=1.3.0 in c:\\users\\wintu\\anaconda3\\lib\\site-packages (from trio~=0.17->selenium) (1.3.0)\n",
      "Requirement already satisfied: cffi>=1.14 in c:\\users\\wintu\\anaconda3\\lib\\site-packages (from trio~=0.17->selenium) (1.17.1)\n",
      "Requirement already satisfied: wsproto>=0.14 in c:\\users\\wintu\\anaconda3\\lib\\site-packages (from trio-websocket~=0.9->selenium) (1.2.0)\n",
      "Requirement already satisfied: pysocks!=1.5.7,<2.0,>=1.5.6 in c:\\users\\wintu\\anaconda3\\lib\\site-packages (from urllib3[socks]<3,>=1.26->selenium) (1.7.1)\n",
      "Requirement already satisfied: pycparser in c:\\users\\wintu\\anaconda3\\lib\\site-packages (from cffi>=1.14->trio~=0.17->selenium) (2.21)\n",
      "Requirement already satisfied: h11<1,>=0.9.0 in c:\\users\\wintu\\anaconda3\\lib\\site-packages (from wsproto>=0.14->trio-websocket~=0.9->selenium) (0.14.0)\n"
     ]
    }
   ],
   "source": [
    "! pip install selenium"
   ]
  },
  {
   "cell_type": "code",
   "execution_count": 3,
   "metadata": {},
   "outputs": [],
   "source": [
    "from selenium import webdriver\n",
    "import time\n",
    "import pandas as pd\n",
    "from selenium.webdriver.common.by import By\n",
    "from selenium.webdriver.common.keys import Keys\n",
    "from selenium.webdriver.support.ui import WebDriverWait\n",
    "from selenium.webdriver.support import expected_conditions as EC\n",
    "import urllib.request as req"
   ]
  },
  {
   "cell_type": "code",
   "execution_count": null,
   "metadata": {},
   "outputs": [
    {
     "ename": "AttributeError",
     "evalue": "'list' object has no attribute 'text'",
     "output_type": "error",
     "traceback": [
      "\u001b[1;31m---------------------------------------------------------------------------\u001b[0m",
      "\u001b[1;31mAttributeError\u001b[0m                            Traceback (most recent call last)",
      "Cell \u001b[1;32mIn[23], line 33\u001b[0m\n\u001b[0;32m     31\u001b[0m \u001b[38;5;66;03m#mCSB_3_container > ul\u001b[39;00m\n\u001b[0;32m     32\u001b[0m store_list \u001b[38;5;241m=\u001b[39m driver\u001b[38;5;241m.\u001b[39mfind_elements(\u001b[38;5;124m\"\u001b[39m\u001b[38;5;124mcss selector\u001b[39m\u001b[38;5;124m\"\u001b[39m, \u001b[38;5;124m\"\u001b[39m\u001b[38;5;124m#mCSB_3_container > ul\u001b[39m\u001b[38;5;124m\"\u001b[39m)\n\u001b[1;32m---> 33\u001b[0m \u001b[38;5;28mprint\u001b[39m(store_list\u001b[38;5;241m.\u001b[39mtext)\n",
      "\u001b[1;31mAttributeError\u001b[0m: 'list' object has no attribute 'text'"
     ]
    }
   ],
   "source": [
    "# 검색 정보\n",
    "url = \"https://www.starbucks.co.kr/store/store_map.do\"\n",
    "sidos = []\n",
    "\n",
    "# 크롬 브라우저 생성 및 오픈\n",
    "driver = webdriver.Chrome()\n",
    "driver.get(url)\n",
    "\n",
    "time.sleep(1)\n",
    "element = driver.find_element(\"css selector\",\"header.loca_search > h3 > a\")\n",
    "element.click()\n",
    "\n",
    "time.sleep(1)\n",
    "elements = driver.find_elements(\"css selector\",\"div.loca_step1_cont > ul > li > a\")\n",
    "for element in elements:\n",
    "    time.sleep(1)\n",
    "    sidos.append(element.text)\n",
    "\n",
    "for i in range(len(sidos)):\n",
    "    driver.get(url)\n",
    "    time.sleep(1)\n",
    "    element = driver.find_element(\"css selector\",\"header.loca_search > h3 > a\")\n",
    "    element.click()\n",
    "    WebDriverWait(driver, 5).until(EC.presence_of_element_located((By.LINK_TEXT, sidos[i])))\n",
    "    element = driver.find_element(By.LINK_TEXT, sidos[i])\n",
    "    element.click()\n",
    "    WebDriverWait(driver, 5).until(EC.presence_of_element_located((By.LINK_TEXT, \"전체\")))\n",
    "    element = driver.find_element(By.LINK_TEXT, \"전체\")\n",
    "    element.click()\n",
    "\n",
    "    #mCSB_3_container > ul\n",
    "    store_list = driver.find_elements(\"css selector\", \"#mCSB_3_container > ul > li\")\n",
    "    time.sleep(2)\n"
   ]
  },
  {
   "cell_type": "code",
   "execution_count": null,
   "metadata": {},
   "outputs": [
    {
     "name": "stdout",
     "output_type": "stream",
     "text": [
      "14\n"
     ]
    }
   ],
   "source": [
    "# 검색 정보\n",
    "url = \"https://www.starbucks.co.kr/store/store_map.do\"\n",
    "sidos = []\n",
    "googuns = []\n",
    "\n",
    "# 검색할 지역 이름 리스트로 추가\n",
    "while True:\n",
    "    sido = input(\" 시/도 를 입력하세요(2글자) ex) 서울/부산/경남/세종 (종료하려면 'exit' 입력) : \")\n",
    "    if sido.lower() == 'exit':  # 'exit' 입력하면 종료\n",
    "        break\n",
    "    elif sido.lower() == '세종':\n",
    "        continue\n",
    "    sidos.append(sido)  # 리스트에 입력값 추가\n",
    "    googun = input(\" 구/군 을 입력하세요 ex) 전체/중구/연제구/서귀포시 : \")\n",
    "    googuns.append(googun)\n",
    "\n",
    "# 크롬 브라우저 생성 및 오픈\n",
    "driver = webdriver.Chrome()\n",
    "\n",
    "for i in range(len(sidos)):\n",
    "    driver.get(url)\n",
    "    time.sleep(0.5)\n",
    "\n",
    "    # 지역 검색 버튼 클릭\n",
    "    #container > div > form > fieldset > div > section > article.find_store_cont > article > header.loca_search > h3 > a\n",
    "    try:\n",
    "        time.sleep(1)\n",
    "        element = driver.find_element(\"css selector\",\"header.loca_search > h3 > a\")\n",
    "        element.click()\n",
    "        WebDriverWait(driver, 10).until(EC.presence_of_element_located((By.LINK_TEXT, sidos[i])))\n",
    "        element = driver.find_element(By.LINK_TEXT, sidos[i])\n",
    "        element.click()\n",
    "        if googuns[i] !='':\n",
    "            WebDriverWait(driver, 10).until(EC.presence_of_element_located((By.LINK_TEXT, googuns[i])))\n",
    "            element = driver.find_element(By.LINK_TEXT, googuns[i])\n",
    "            element.click() \n",
    "    except:\n",
    "        print(\"지역 검색 버튼 찾을 수 없음\")\n",
    "\n",
    "    # 검색 결과 가져오기\n",
    "    time.sleep(3)\n",
    "\n",
    "    store_list = driver.find_elements(\"css selector\", \"#mCSB_3_container > ul > li\")\n",
    "    time.sleep(3)\n",
    "\n",
    "    count =0\n",
    "    temp_list=[]\n",
    "\n",
    "    for store in store_list:\n",
    "        count+=1\n",
    "        lat = store.get_attribute('data-lat')\n",
    "        long = store.get_attribute('data-long')\n",
    "        name = store.get_attribute('data-name')\n",
    "        storeinfo = store.find_element(By.TAG_NAME,\"p\")\n",
    "        arr_storeinfo=storeinfo.text.split(\"\\n\")\n",
    "        if(len(arr_storeinfo)==2):\n",
    "            address = arr_storeinfo[0]\n",
    "            phone_number = arr_storeinfo[1]\n",
    "        else:\n",
    "            address = '-'\n",
    "            phone_number = '-'\n",
    "        \n",
    "        temp_list.append((name, lat, long, address, phone_number))\n",
    "\n",
    "        total = len(store_list)\n",
    "\n",
    "        if count != total and count %3==0:\n",
    "            driver.execute_script(\"var su=arguments[0];\\\n",
    "                                  var dom=document.querySelectorAll('#mCSB_3_container > ul > li')[su];\\\n",
    "                                  dom.scrollIntoView();\", count)\n",
    "\n",
    "print(temp_list)"
   ]
  }
 ],
 "metadata": {
  "kernelspec": {
   "display_name": "base",
   "language": "python",
   "name": "python3"
  },
  "language_info": {
   "codemirror_mode": {
    "name": "ipython",
    "version": 3
   },
   "file_extension": ".py",
   "mimetype": "text/x-python",
   "name": "python",
   "nbconvert_exporter": "python",
   "pygments_lexer": "ipython3",
   "version": "3.12.7"
  }
 },
 "nbformat": 4,
 "nbformat_minor": 2
}
