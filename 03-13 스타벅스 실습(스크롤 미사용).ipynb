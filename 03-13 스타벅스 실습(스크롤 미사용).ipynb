{
 "cells": [
  {
   "cell_type": "code",
   "execution_count": 2,
   "metadata": {},
   "outputs": [],
   "source": [
    "from selenium import webdriver\n",
    "from selenium.webdriver.common.by import By\n",
    "import pandas as pd\n",
    "import pymysql"
   ]
  },
  {
   "cell_type": "code",
   "execution_count": 3,
   "metadata": {},
   "outputs": [],
   "source": [
    "def starbucks_store(sido, gugun):\n",
    "    result = []\n",
    "\n",
    "    # 크롬으로 사이트 열기\n",
    "    driver = webdriver.Chrome()\n",
    "    driver.get(\"https://www.starbucks.co.kr/store/store_map.do\")\n",
    "    driver.implicitly_wait(10)\n",
    "    driver.find_element(By.LINK_TEXT, \"지역 검색\").click()\n",
    "    driver.implicitly_wait(10)\n",
    "    try:\n",
    "        driver.find_element(By.LINK_TEXT, sido).click()\n",
    "    except:\n",
    "        print(\"시도 입력 오류\")\n",
    "    driver.implicitly_wait(10)\n",
    "    try:\n",
    "        driver.find_element(By.LINK_TEXT, gugun).click()\n",
    "    except:\n",
    "        print(\"구군 입력 오류\")\n",
    "    driver.implicitly_wait(60)\n",
    "\n",
    "    # 크롤링\n",
    "    driver.execute_script(\"document.querySelector('#mCSB_3').style.cssText = 'overflow: visible;'\")\n",
    "    ul_tag = driver.find_element(By.CLASS_NAME, \"quickSearchResultBoxSidoGugun\")\n",
    "    store_list = ul_tag.find_elements(By.TAG_NAME, \"li\")\n",
    "    for store in store_list:\n",
    "        name = store.get_attribute(\"data-name\")\n",
    "        addressAndTel = store.find_element(By.CSS_SELECTOR, \"p\").text.split(\"\\n\")\n",
    "        address = addressAndTel[0]\n",
    "        tel = addressAndTel[1]\n",
    "        latitude = store.get_attribute(\"data-lat\")\n",
    "        longtitude = store.get_attribute(\"data-long\")\n",
    "        result.append((name, address, tel, latitude, longtitude))\n",
    "\n",
    "    driver.quit()\n",
    "\n",
    "    return result\n"
   ]
  },
  {
   "cell_type": "code",
   "execution_count": 4,
   "metadata": {},
   "outputs": [],
   "source": [
    "store_list = starbucks_store(\"부산\", \"전체\")\n",
    "\n",
    "df = pd.DataFrame(store_list, columns=[\"점포명\", \"주소\", \"전화번호\", \"위도\", \"경도\"])\n",
    "df.to_csv(\"../data/스타벅스 실습.csv\", encoding=\"utf8\")"
   ]
  },
  {
   "cell_type": "code",
   "execution_count": 5,
   "metadata": {},
   "outputs": [],
   "source": [
    "conn = pymysql.connect(\n",
    "    host=\"localhost\",\n",
    "    user=\"jhm\",\n",
    "    password=\"1234\",\n",
    "    database=\"pydb\",\n",
    "    charset=\"utf8\"\n",
    ")\n",
    "c = conn.cursor()\n",
    "c.executemany(\n",
    "    \"INSERT INTO starbucks_store(name, address, tel, latitude, longtitude) VALUES(%s, %s, %s, %s, %s)\",\n",
    "    store_list\n",
    ")\n",
    "conn.commit()\n",
    "conn.close()"
   ]
  }
 ],
 "metadata": {
  "kernelspec": {
   "display_name": "base",
   "language": "python",
   "name": "python3"
  },
  "language_info": {
   "codemirror_mode": {
    "name": "ipython",
    "version": 3
   },
   "file_extension": ".py",
   "mimetype": "text/x-python",
   "name": "python",
   "nbconvert_exporter": "python",
   "pygments_lexer": "ipython3",
   "version": "3.12.7"
  }
 },
 "nbformat": 4,
 "nbformat_minor": 2
}
